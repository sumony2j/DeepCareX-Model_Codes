{
 "cells": [
  {
   "cell_type": "markdown",
   "id": "8538d3b5",
   "metadata": {},
   "source": [
    "## Load Modules"
   ]
  },
  {
   "cell_type": "code",
   "execution_count": 1,
   "id": "5efd7c7f",
   "metadata": {},
   "outputs": [],
   "source": [
    "import os\n",
    "import random\n",
    "import shutil\n",
    "import numpy as np\n",
    "import pandas as pd\n",
    "from sklearn.preprocessing import LabelEncoder\n",
    "import tensorflow as tf\n",
    "from tensorflow.keras.preprocessing.image import load_img,img_to_array,save_img,ImageDataGenerator\n",
    "from tensorflow.keras.applications.densenet import DenseNet201\n",
    "from tensorflow.keras.applications.resnet_v2 import ResNet152V2\n",
    "from tensorflow.keras.callbacks import EarlyStopping,ModelCheckpoint\n",
    "from tensorflow.keras.models import Sequential,Model\n",
    "from tensorflow.keras import regularizers\n",
    "from tensorflow.keras.utils import to_categorical\n",
    "from tensorflow.keras.layers import Dense,Activation,Flatten,GlobalAveragePooling2D,Dropout,BatchNormalization,Conv2D,MaxPooling2D"
   ]
  },
  {
   "cell_type": "markdown",
   "id": "2d1d92b9",
   "metadata": {},
   "source": [
    "## Tensorflow Version & GPU checking"
   ]
  },
  {
   "cell_type": "code",
   "execution_count": 2,
   "id": "2964ba3f",
   "metadata": {},
   "outputs": [
    {
     "data": {
      "text/plain": [
       "'2.9.0'"
      ]
     },
     "execution_count": 2,
     "metadata": {},
     "output_type": "execute_result"
    }
   ],
   "source": [
    "tf.__version__"
   ]
  },
  {
   "cell_type": "code",
   "execution_count": 3,
   "id": "ade5a56f",
   "metadata": {},
   "outputs": [
    {
     "name": "stdout",
     "output_type": "stream",
     "text": [
      "[name: \"/device:CPU:0\"\n",
      "device_type: \"CPU\"\n",
      "memory_limit: 268435456\n",
      "locality {\n",
      "}\n",
      "incarnation: 9243496915789835967\n",
      "xla_global_id: -1\n",
      ", name: \"/device:GPU:0\"\n",
      "device_type: \"GPU\"\n",
      "memory_limit: 1738696295\n",
      "locality {\n",
      "  bus_id: 1\n",
      "  links {\n",
      "  }\n",
      "}\n",
      "incarnation: 11066454015617188951\n",
      "physical_device_desc: \"device: 0, name: NVIDIA GeForce RTX 3050 Laptop GPU, pci bus id: 0000:01:00.0, compute capability: 8.6\"\n",
      "xla_global_id: 416903419\n",
      "]\n"
     ]
    }
   ],
   "source": [
    "from tensorflow.python.client import device_lib\n",
    "print(device_lib.list_local_devices())"
   ]
  },
  {
   "cell_type": "markdown",
   "id": "3a7b0233",
   "metadata": {},
   "source": [
    "## Load Dataset"
   ]
  },
  {
   "cell_type": "code",
   "execution_count": 4,
   "id": "1ff5cf2d",
   "metadata": {},
   "outputs": [],
   "source": [
    "Train_Dir = '../../Datasets/CT-KIDNEY/train/'\n",
    "Test_Dir = '../../Datasets/CT-KIDNEY/test'"
   ]
  },
  {
   "cell_type": "markdown",
   "id": "21f31ac9",
   "metadata": {},
   "source": [
    "### Create Testing Directory"
   ]
  },
  {
   "cell_type": "code",
   "execution_count": 5,
   "id": "ab83c5dd",
   "metadata": {},
   "outputs": [],
   "source": [
    "def move_imgs(imgs_list,src,dst):\n",
    "    for img in imgs_list:\n",
    "        shutil.move(f'{src}/{img}',f'{dst}/{img}')"
   ]
  },
  {
   "cell_type": "code",
   "execution_count": 6,
   "id": "fef04866",
   "metadata": {},
   "outputs": [],
   "source": [
    "if not os.path.exists(Test_Dir):\n",
    "    os.makedirs(Test_Dir)\n",
    "    for label in os.listdir(Train_Dir):\n",
    "        imgs = os.listdir(Train_Dir+'/'+label)\n",
    "        test_imgs = random.sample(imgs,int((len(imgs)*20)/100))\n",
    "        os.makedirs(Test_Dir+'/'+label)\n",
    "        move_imgs(test_imgs,f'{Train_Dir}/{label}',f'{Test_Dir}/{label}')"
   ]
  },
  {
   "cell_type": "markdown",
   "id": "69e0c0ab",
   "metadata": {},
   "source": [
    "## Generator"
   ]
  },
  {
   "cell_type": "code",
   "execution_count": 7,
   "id": "b4e1aa66",
   "metadata": {},
   "outputs": [],
   "source": [
    "gen = ImageDataGenerator(rescale=1./255.0)"
   ]
  },
  {
   "cell_type": "code",
   "execution_count": 8,
   "id": "2a34dfcc",
   "metadata": {},
   "outputs": [
    {
     "name": "stdout",
     "output_type": "stream",
     "text": [
      "Found 9959 images belonging to 4 classes.\n",
      "Found 2487 images belonging to 4 classes.\n"
     ]
    }
   ],
   "source": [
    "Train_Data = gen.flow_from_directory(Train_Dir,target_size=(128,128),shuffle=True,batch_size=32)\n",
    "Test_Data = gen.flow_from_directory(Test_Dir,target_size=(128,128),shuffle=True,batch_size=32)"
   ]
  },
  {
   "cell_type": "code",
   "execution_count": 9,
   "id": "4c375df2",
   "metadata": {},
   "outputs": [
    {
     "data": {
      "text/plain": [
       "{'Cyst': 0, 'Normal': 1, 'Stone': 2, 'Tumor': 3}"
      ]
     },
     "execution_count": 9,
     "metadata": {},
     "output_type": "execute_result"
    }
   ],
   "source": [
    "Train_Data.class_indices"
   ]
  },
  {
   "cell_type": "markdown",
   "id": "341869c7",
   "metadata": {},
   "source": [
    "## Model"
   ]
  },
  {
   "cell_type": "markdown",
   "id": "7d45f37f",
   "metadata": {},
   "source": [
    "Base_Model = ResNet152V2(include_top=False,input_shape=(128,128,3))"
   ]
  },
  {
   "cell_type": "markdown",
   "id": "9e97f0f8",
   "metadata": {},
   "source": [
    "Base_Model.trainable = False"
   ]
  },
  {
   "cell_type": "code",
   "execution_count": 10,
   "id": "5c3633a3",
   "metadata": {},
   "outputs": [],
   "source": [
    "def features_layer():\n",
    "    feature_extraction = [\n",
    "        Conv2D(64,(3,3),input_shape=(128,128,3),activation='relu',padding=\"same\"),\n",
    "        MaxPooling2D((2,2)),\n",
    "        Conv2D(filters=64,kernel_size=(3,3),activation='relu',padding=\"same\"),\n",
    "        MaxPooling2D((2,2)),\n",
    "        Conv2D(filters=32,kernel_size=(3,3),activation='relu',padding=\"same\"),\n",
    "        MaxPooling2D((2,2)),\n",
    "        Conv2D(filters=32,kernel_size=(3,3),activation='relu',padding=\"same\"),\n",
    "        MaxPooling2D((2,2)),\n",
    "        Conv2D(filters=16,kernel_size=(3,3),activation='relu',padding=\"same\"),\n",
    "        MaxPooling2D((2,2)),\n",
    "        Conv2D(filters=16,kernel_size=(3,3),activation='relu',padding=\"same\"),\n",
    "        MaxPooling2D((2,2))\n",
    "    ]\n",
    "    return feature_extraction"
   ]
  },
  {
   "cell_type": "code",
   "execution_count": 11,
   "id": "01c67e39",
   "metadata": {},
   "outputs": [],
   "source": [
    "def classification_layer():\n",
    "    Classification_Layer = [\n",
    "    Flatten(),\n",
    "    BatchNormalization(),\n",
    "    Dense(units=32,activation='tanh'),\n",
    "    Dropout(0.2),\n",
    "    BatchNormalization(),\n",
    "    Dense(units=16,activation='tanh'),\n",
    "    Dropout(0.2),\n",
    "    BatchNormalization(),\n",
    "    Dense(units=4,activation='softmax')\n",
    "    ]\n",
    "    return Classification_Layer"
   ]
  },
  {
   "cell_type": "code",
   "execution_count": 12,
   "id": "c7ad45b2",
   "metadata": {},
   "outputs": [],
   "source": [
    "model = []\n",
    "for layer in features_layer():\n",
    "    model.append(layer)"
   ]
  },
  {
   "cell_type": "code",
   "execution_count": 13,
   "id": "a6610c22",
   "metadata": {},
   "outputs": [],
   "source": [
    "for cls_layer in classification_layer():\n",
    "    model.append(cls_layer)"
   ]
  },
  {
   "cell_type": "markdown",
   "id": "a193c53e",
   "metadata": {},
   "source": [
    "model = [Base_Model]\n",
    "for cls_layer in classification_layer():\n",
    "    model.append(cls_layer)"
   ]
  },
  {
   "cell_type": "code",
   "execution_count": 14,
   "id": "fb7a6d57",
   "metadata": {},
   "outputs": [],
   "source": [
    "final_model = Sequential(model)"
   ]
  },
  {
   "cell_type": "code",
   "execution_count": 15,
   "id": "af2971d1",
   "metadata": {},
   "outputs": [
    {
     "name": "stdout",
     "output_type": "stream",
     "text": [
      "Model: \"sequential\"\n",
      "_________________________________________________________________\n",
      " Layer (type)                Output Shape              Param #   \n",
      "=================================================================\n",
      " conv2d (Conv2D)             (None, 128, 128, 64)      1792      \n",
      "                                                                 \n",
      " max_pooling2d (MaxPooling2D  (None, 64, 64, 64)       0         \n",
      " )                                                               \n",
      "                                                                 \n",
      " conv2d_1 (Conv2D)           (None, 64, 64, 64)        36928     \n",
      "                                                                 \n",
      " max_pooling2d_1 (MaxPooling  (None, 32, 32, 64)       0         \n",
      " 2D)                                                             \n",
      "                                                                 \n",
      " conv2d_2 (Conv2D)           (None, 32, 32, 32)        18464     \n",
      "                                                                 \n",
      " max_pooling2d_2 (MaxPooling  (None, 16, 16, 32)       0         \n",
      " 2D)                                                             \n",
      "                                                                 \n",
      " conv2d_3 (Conv2D)           (None, 16, 16, 32)        9248      \n",
      "                                                                 \n",
      " max_pooling2d_3 (MaxPooling  (None, 8, 8, 32)         0         \n",
      " 2D)                                                             \n",
      "                                                                 \n",
      " conv2d_4 (Conv2D)           (None, 8, 8, 16)          4624      \n",
      "                                                                 \n",
      " max_pooling2d_4 (MaxPooling  (None, 4, 4, 16)         0         \n",
      " 2D)                                                             \n",
      "                                                                 \n",
      " conv2d_5 (Conv2D)           (None, 4, 4, 16)          2320      \n",
      "                                                                 \n",
      " max_pooling2d_5 (MaxPooling  (None, 2, 2, 16)         0         \n",
      " 2D)                                                             \n",
      "                                                                 \n",
      " flatten (Flatten)           (None, 64)                0         \n",
      "                                                                 \n",
      " batch_normalization (BatchN  (None, 64)               256       \n",
      " ormalization)                                                   \n",
      "                                                                 \n",
      " dense (Dense)               (None, 32)                2080      \n",
      "                                                                 \n",
      " dropout (Dropout)           (None, 32)                0         \n",
      "                                                                 \n",
      " batch_normalization_1 (Batc  (None, 32)               128       \n",
      " hNormalization)                                                 \n",
      "                                                                 \n",
      " dense_1 (Dense)             (None, 16)                528       \n",
      "                                                                 \n",
      " dropout_1 (Dropout)         (None, 16)                0         \n",
      "                                                                 \n",
      " batch_normalization_2 (Batc  (None, 16)               64        \n",
      " hNormalization)                                                 \n",
      "                                                                 \n",
      " dense_2 (Dense)             (None, 4)                 68        \n",
      "                                                                 \n",
      "=================================================================\n",
      "Total params: 76,500\n",
      "Trainable params: 76,276\n",
      "Non-trainable params: 224\n",
      "_________________________________________________________________\n"
     ]
    }
   ],
   "source": [
    "final_model.summary()"
   ]
  },
  {
   "cell_type": "markdown",
   "id": "048c7d90",
   "metadata": {},
   "source": [
    "## Compile"
   ]
  },
  {
   "cell_type": "code",
   "execution_count": 16,
   "id": "8ed04d10",
   "metadata": {},
   "outputs": [],
   "source": [
    "callback = EarlyStopping(monitor='loss',patience=3)"
   ]
  },
  {
   "cell_type": "code",
   "execution_count": 17,
   "id": "e546d60e",
   "metadata": {},
   "outputs": [],
   "source": [
    "checkpoint = ModelCheckpoint(filepath='../../Models/Kidney/Kidney.hdf5',monitor='val_loss',save_best_only=True,verbose=0,mode='auto')"
   ]
  },
  {
   "cell_type": "code",
   "execution_count": 18,
   "id": "41541a5e",
   "metadata": {},
   "outputs": [],
   "source": [
    "final_model.compile(optimizer='adam',loss='categorical_crossentropy',metrics=['acc'])"
   ]
  },
  {
   "cell_type": "markdown",
   "id": "b48a228e",
   "metadata": {},
   "source": [
    "## Training"
   ]
  },
  {
   "cell_type": "code",
   "execution_count": 19,
   "id": "c65eabc2",
   "metadata": {},
   "outputs": [
    {
     "name": "stdout",
     "output_type": "stream",
     "text": [
      "Epoch 1/100\n",
      "312/312 [==============================] - 152s 464ms/step - loss: 0.6478 - acc: 0.7568 - val_loss: 0.5244 - val_acc: 0.8355\n",
      "Epoch 2/100\n",
      "312/312 [==============================] - 48s 155ms/step - loss: 0.2424 - acc: 0.9209 - val_loss: 0.1495 - val_acc: 0.9437\n",
      "Epoch 3/100\n",
      "312/312 [==============================] - 51s 163ms/step - loss: 0.1277 - acc: 0.9621 - val_loss: 0.1087 - val_acc: 0.9594\n",
      "Epoch 4/100\n",
      "312/312 [==============================] - 51s 165ms/step - loss: 0.0890 - acc: 0.9741 - val_loss: 0.1594 - val_acc: 0.9401\n",
      "Epoch 5/100\n",
      "312/312 [==============================] - 51s 164ms/step - loss: 0.0601 - acc: 0.9819 - val_loss: 0.0116 - val_acc: 0.9976\n",
      "Epoch 6/100\n",
      "312/312 [==============================] - 51s 163ms/step - loss: 0.0641 - acc: 0.9802 - val_loss: 0.0133 - val_acc: 0.9972\n",
      "Epoch 7/100\n",
      "312/312 [==============================] - 55s 175ms/step - loss: 0.0747 - acc: 0.9767 - val_loss: 0.0300 - val_acc: 0.9895\n",
      "Epoch 8/100\n",
      "312/312 [==============================] - 68s 218ms/step - loss: 0.0412 - acc: 0.9876 - val_loss: 0.1112 - val_acc: 0.9618\n",
      "Epoch 9/100\n",
      "312/312 [==============================] - 52s 166ms/step - loss: 0.0375 - acc: 0.9892 - val_loss: 0.1187 - val_acc: 0.9542\n",
      "Epoch 10/100\n",
      "312/312 [==============================] - 52s 165ms/step - loss: 0.0561 - acc: 0.9839 - val_loss: 0.1003 - val_acc: 0.9662\n",
      "Epoch 11/100\n",
      "312/312 [==============================] - 52s 166ms/step - loss: 0.0481 - acc: 0.9839 - val_loss: 0.0046 - val_acc: 0.9988\n",
      "Epoch 12/100\n",
      "312/312 [==============================] - 52s 166ms/step - loss: 0.0351 - acc: 0.9893 - val_loss: 0.0344 - val_acc: 0.9859\n",
      "Epoch 13/100\n",
      "312/312 [==============================] - 52s 168ms/step - loss: 0.0453 - acc: 0.9849 - val_loss: 0.3736 - val_acc: 0.8866\n",
      "Epoch 14/100\n",
      "312/312 [==============================] - 52s 167ms/step - loss: 0.0240 - acc: 0.9931 - val_loss: 0.0552 - val_acc: 0.9839\n",
      "Epoch 15/100\n",
      "312/312 [==============================] - 53s 169ms/step - loss: 0.0265 - acc: 0.9919 - val_loss: 0.0104 - val_acc: 0.9964\n",
      "Epoch 16/100\n",
      "312/312 [==============================] - 52s 167ms/step - loss: 0.0485 - acc: 0.9864 - val_loss: 0.1034 - val_acc: 0.9626\n",
      "Epoch 17/100\n",
      "312/312 [==============================] - 52s 167ms/step - loss: 0.0316 - acc: 0.9899 - val_loss: 0.1086 - val_acc: 0.9690\n"
     ]
    }
   ],
   "source": [
    "history = final_model.fit(Train_Data,validation_data=Test_Data,epochs=100,callbacks=[callback,checkpoint])"
   ]
  },
  {
   "cell_type": "markdown",
   "id": "bf3b2da2",
   "metadata": {},
   "source": [
    "## Save Model"
   ]
  },
  {
   "cell_type": "code",
   "execution_count": 20,
   "id": "4320b19b",
   "metadata": {},
   "outputs": [],
   "source": [
    "final_model.save('../../Models/Kidney/Kidney.h5')"
   ]
  },
  {
   "cell_type": "markdown",
   "id": "91e8c22e",
   "metadata": {},
   "source": [
    "## Graph"
   ]
  },
  {
   "cell_type": "code",
   "execution_count": 21,
   "id": "1c7cae8c",
   "metadata": {},
   "outputs": [
    {
     "data": {
      "image/png": "[encoded data removed]",
      "text/plain": [
       "<Figure size 640x480 with 1 Axes>"
      ]
     },
     "metadata": {},
     "output_type": "display_data"
    },
    {
     "data": {
      "image/png": "[encoded data removed]",
      "text/plain": [
       "<Figure size 640x480 with 1 Axes>"
      ]
     },
     "metadata": {},
     "output_type": "display_data"
    }
   ],
   "source": [
    "import matplotlib.pyplot as plt\n",
    "\n",
    "# summarize history for accuracy\n",
    "plt.plot(history.history['acc'])\n",
    "plt.plot(history.history['val_acc'])\n",
    "plt.title('model accuracy')\n",
    "plt.ylabel('accuracy')\n",
    "plt.xlabel('epoch')\n",
    "plt.legend(['Train', 'Validation'], loc='upper left')\n",
    "plt.show()\n",
    "# summarize history for loss\n",
    "plt.plot(history.history['loss'])\n",
    "plt.plot(history.history['val_loss'])\n",
    "plt.title('model loss')\n",
    "plt.ylabel('loss')\n",
    "plt.xlabel('epoch')\n",
    "plt.legend(['Train', 'Validation'], loc='upper left')\n",
    "plt.show()"
   ]
  }
 ],
 "metadata": {
  "kernelspec": {
   "display_name": "Python 3.9 (tf2.9)",
   "language": "python",
   "name": "tf2.9"
  },
  "language_info": {
   "codemirror_mode": {
    "name": "ipython",
    "version": 3
   },
   "file_extension": ".py",
   "mimetype": "text/x-python",
   "name": "python",
   "nbconvert_exporter": "python",
   "pygments_lexer": "ipython3",
   "version": "3.9.13"
  }
 },
 "nbformat": 4,
 "nbformat_minor": 5
}

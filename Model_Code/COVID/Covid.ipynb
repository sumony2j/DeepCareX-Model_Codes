{
 "cells": [
  {
   "cell_type": "markdown",
   "id": "8538d3b5",
   "metadata": {},
   "source": [
    "## Load Modules"
   ]
  },
  {
   "cell_type": "code",
   "execution_count": 1,
   "id": "5efd7c7f",
   "metadata": {},
   "outputs": [],
   "source": [
    "import os\n",
    "import random\n",
    "import shutil\n",
    "import numpy as np\n",
    "import pandas as pd\n",
    "from sklearn.preprocessing import LabelEncoder\n",
    "import tensorflow as tf\n",
    "from tensorflow.keras.preprocessing.image import load_img,img_to_array,save_img,ImageDataGenerator\n",
    "from tensorflow.keras.applications.densenet import DenseNet201\n",
    "from tensorflow.keras.applications.resnet_v2 import ResNet152V2\n",
    "from tensorflow.keras.callbacks import EarlyStopping,ModelCheckpoint\n",
    "from tensorflow.keras.models import Sequential,Model\n",
    "from tensorflow.keras import regularizers\n",
    "from tensorflow.keras.utils import to_categorical\n",
    "from tensorflow.keras.layers import Dense,Activation,Flatten,GlobalAveragePooling2D,Dropout,BatchNormalization,Conv2D,MaxPooling2D"
   ]
  },
  {
   "cell_type": "markdown",
   "id": "2d1d92b9",
   "metadata": {},
   "source": [
    "## Tensorflow Version & GPU checking"
   ]
  },
  {
   "cell_type": "code",
   "execution_count": 2,
   "id": "2964ba3f",
   "metadata": {},
   "outputs": [
    {
     "data": {
      "text/plain": [
       "'2.9.0'"
      ]
     },
     "execution_count": 2,
     "metadata": {},
     "output_type": "execute_result"
    }
   ],
   "source": [
    "tf.__version__"
   ]
  },
  {
   "cell_type": "code",
   "execution_count": 3,
   "id": "ade5a56f",
   "metadata": {},
   "outputs": [
    {
     "name": "stdout",
     "output_type": "stream",
     "text": [
      "[name: \"/device:CPU:0\"\n",
      "device_type: \"CPU\"\n",
      "memory_limit: 268435456\n",
      "locality {\n",
      "}\n",
      "incarnation: 17959498544637964372\n",
      "xla_global_id: -1\n",
      ", name: \"/device:GPU:0\"\n",
      "device_type: \"GPU\"\n",
      "memory_limit: 1738696295\n",
      "locality {\n",
      "  bus_id: 1\n",
      "  links {\n",
      "  }\n",
      "}\n",
      "incarnation: 8572484806659272358\n",
      "physical_device_desc: \"device: 0, name: NVIDIA GeForce RTX 3050 Laptop GPU, pci bus id: 0000:01:00.0, compute capability: 8.6\"\n",
      "xla_global_id: 416903419\n",
      "]\n"
     ]
    }
   ],
   "source": [
    "from tensorflow.python.client import device_lib\n",
    "print(device_lib.list_local_devices())"
   ]
  },
  {
   "cell_type": "markdown",
   "id": "3a7b0233",
   "metadata": {},
   "source": [
    "## Load Dataset"
   ]
  },
  {
   "cell_type": "code",
   "execution_count": 4,
   "id": "1ff5cf2d",
   "metadata": {},
   "outputs": [],
   "source": [
    "Train_Dir = '../../Datasets/COVID-19/train/'\n",
    "Test_Dir = '../../Datasets/COVID-19/test'"
   ]
  },
  {
   "cell_type": "markdown",
   "id": "21f31ac9",
   "metadata": {},
   "source": [
    "### Create Testing Directory"
   ]
  },
  {
   "cell_type": "code",
   "execution_count": 5,
   "id": "ab83c5dd",
   "metadata": {},
   "outputs": [],
   "source": [
    "def move_imgs(imgs_list,src,dst):\n",
    "    for img in imgs_list:\n",
    "        shutil.move(f'{src}/{img}',f'{dst}/{img}')"
   ]
  },
  {
   "cell_type": "code",
   "execution_count": 6,
   "id": "fef04866",
   "metadata": {},
   "outputs": [],
   "source": [
    "if not os.path.exists(Test_Dir):\n",
    "    os.makedirs(Test_Dir)\n",
    "    for label in os.listdir(Train_Dir):\n",
    "        imgs = os.listdir(Train_Dir+'/'+label)\n",
    "        test_imgs = random.sample(imgs,int((len(imgs)*20)/100))\n",
    "        os.makedirs(Test_Dir+'/'+label)\n",
    "        move_imgs(test_imgs,f'{Train_Dir}/{label}',f'{Test_Dir}/{label}')"
   ]
  },
  {
   "cell_type": "markdown",
   "id": "69e0c0ab",
   "metadata": {},
   "source": [
    "## Generator"
   ]
  },
  {
   "cell_type": "code",
   "execution_count": 7,
   "id": "b4e1aa66",
   "metadata": {},
   "outputs": [],
   "source": [
    "gen = ImageDataGenerator(rescale=1./255.0)"
   ]
  },
  {
   "cell_type": "code",
   "execution_count": 8,
   "id": "2a34dfcc",
   "metadata": {},
   "outputs": [
    {
     "name": "stdout",
     "output_type": "stream",
     "text": [
      "Found 6444 images belonging to 2 classes.\n",
      "Found 1610 images belonging to 2 classes.\n"
     ]
    }
   ],
   "source": [
    "Train_Data = gen.flow_from_directory(Train_Dir,target_size=(128,128),shuffle=True,batch_size=64)\n",
    "Test_Data = gen.flow_from_directory(Test_Dir,target_size=(128,128),shuffle=True,batch_size=64)"
   ]
  },
  {
   "cell_type": "code",
   "execution_count": 9,
   "id": "4c375df2",
   "metadata": {},
   "outputs": [
    {
     "data": {
      "text/plain": [
       "{'COVID': 0, 'Non-COVID': 1}"
      ]
     },
     "execution_count": 9,
     "metadata": {},
     "output_type": "execute_result"
    }
   ],
   "source": [
    "Train_Data.class_indices"
   ]
  },
  {
   "cell_type": "markdown",
   "id": "341869c7",
   "metadata": {},
   "source": [
    "## Model"
   ]
  },
  {
   "cell_type": "code",
   "execution_count": 10,
   "id": "2ea42ed7",
   "metadata": {},
   "outputs": [],
   "source": [
    "Base_Model = ResNet152V2(include_top=False,input_shape=(128,128,3))"
   ]
  },
  {
   "cell_type": "code",
   "execution_count": 11,
   "id": "11efd6e0",
   "metadata": {},
   "outputs": [],
   "source": [
    "Base_Model.trainable = False"
   ]
  },
  {
   "cell_type": "code",
   "execution_count": 12,
   "id": "01c67e39",
   "metadata": {},
   "outputs": [],
   "source": [
    "def classification_layer():\n",
    "    Classification_Layer = [\n",
    "    Flatten(),\n",
    "    BatchNormalization(),\n",
    "    Dense(units=64,activation='tanh'),\n",
    "    Dropout(0.2),\n",
    "    BatchNormalization(),\n",
    "    Dense(units=32,activation='tanh'),\n",
    "    Dropout(0.2),\n",
    "    BatchNormalization(),\n",
    "    Dense(units=2,activation='softmax')\n",
    "    ]\n",
    "    return Classification_Layer"
   ]
  },
  {
   "cell_type": "code",
   "execution_count": 13,
   "id": "fa2dcb2c",
   "metadata": {},
   "outputs": [],
   "source": [
    "model = [Base_Model]\n",
    "for cls_layer in classification_layer():\n",
    "    model.append(cls_layer)"
   ]
  },
  {
   "cell_type": "code",
   "execution_count": 14,
   "id": "fb7a6d57",
   "metadata": {},
   "outputs": [],
   "source": [
    "final_model = Sequential(model)"
   ]
  },
  {
   "cell_type": "code",
   "execution_count": 15,
   "id": "af2971d1",
   "metadata": {},
   "outputs": [
    {
     "name": "stdout",
     "output_type": "stream",
     "text": [
      "Model: \"sequential\"\n",
      "_________________________________________________________________\n",
      " Layer (type)                Output Shape              Param #   \n",
      "=================================================================\n",
      " resnet152v2 (Functional)    (None, 4, 4, 2048)        58331648  \n",
      "                                                                 \n",
      " flatten (Flatten)           (None, 32768)             0         \n",
      "                                                                 \n",
      " batch_normalization (BatchN  (None, 32768)            131072    \n",
      " ormalization)                                                   \n",
      "                                                                 \n",
      " dense (Dense)               (None, 64)                2097216   \n",
      "                                                                 \n",
      " dropout (Dropout)           (None, 64)                0         \n",
      "                                                                 \n",
      " batch_normalization_1 (Batc  (None, 64)               256       \n",
      " hNormalization)                                                 \n",
      "                                                                 \n",
      " dense_1 (Dense)             (None, 32)                2080      \n",
      "                                                                 \n",
      " dropout_1 (Dropout)         (None, 32)                0         \n",
      "                                                                 \n",
      " batch_normalization_2 (Batc  (None, 32)               128       \n",
      " hNormalization)                                                 \n",
      "                                                                 \n",
      " dense_2 (Dense)             (None, 2)                 66        \n",
      "                                                                 \n",
      "=================================================================\n",
      "Total params: 60,562,466\n",
      "Trainable params: 2,165,090\n",
      "Non-trainable params: 58,397,376\n",
      "_________________________________________________________________\n"
     ]
    }
   ],
   "source": [
    "final_model.summary()"
   ]
  },
  {
   "cell_type": "markdown",
   "id": "048c7d90",
   "metadata": {},
   "source": [
    "## Compile"
   ]
  },
  {
   "cell_type": "code",
   "execution_count": 16,
   "id": "8ed04d10",
   "metadata": {},
   "outputs": [],
   "source": [
    "callback = EarlyStopping(monitor='loss',patience=3)"
   ]
  },
  {
   "cell_type": "code",
   "execution_count": 17,
   "id": "e546d60e",
   "metadata": {},
   "outputs": [],
   "source": [
    "checkpoint = ModelCheckpoint(filepath='../../Models/COVID/Covid.hdf5',monitor='val_loss',save_best_only=True,verbose=0,mode='auto')"
   ]
  },
  {
   "cell_type": "code",
   "execution_count": 18,
   "id": "41541a5e",
   "metadata": {},
   "outputs": [],
   "source": [
    "final_model.compile(optimizer='adam',loss='categorical_crossentropy',metrics=['acc'])"
   ]
  },
  {
   "cell_type": "markdown",
   "id": "b48a228e",
   "metadata": {},
   "source": [
    "## Training"
   ]
  },
  {
   "cell_type": "code",
   "execution_count": 19,
   "id": "c65eabc2",
   "metadata": {},
   "outputs": [
    {
     "name": "stdout",
     "output_type": "stream",
     "text": [
      "Epoch 1/100\n",
      "101/101 [==============================] - 51s 393ms/step - loss: 0.4168 - acc: 0.8259 - val_loss: 0.2599 - val_acc: 0.8938\n",
      "Epoch 2/100\n",
      "101/101 [==============================] - 43s 423ms/step - loss: 0.2145 - acc: 0.9165 - val_loss: 0.1859 - val_acc: 0.9205\n",
      "Epoch 3/100\n",
      "101/101 [==============================] - 43s 425ms/step - loss: 0.1508 - acc: 0.9432 - val_loss: 0.1751 - val_acc: 0.9292\n",
      "Epoch 4/100\n",
      "101/101 [==============================] - 42s 418ms/step - loss: 0.1209 - acc: 0.9556 - val_loss: 0.1619 - val_acc: 0.9354\n",
      "Epoch 5/100\n",
      "101/101 [==============================] - 40s 390ms/step - loss: 0.1008 - acc: 0.9592 - val_loss: 0.1733 - val_acc: 0.9360\n",
      "Epoch 6/100\n",
      "101/101 [==============================] - 50s 471ms/step - loss: 0.0848 - acc: 0.9685 - val_loss: 0.1766 - val_acc: 0.9329\n",
      "Epoch 7/100\n",
      "101/101 [==============================] - 52s 512ms/step - loss: 0.0843 - acc: 0.9688 - val_loss: 0.1765 - val_acc: 0.9416\n",
      "Epoch 8/100\n",
      "101/101 [==============================] - 55s 541ms/step - loss: 0.0773 - acc: 0.9680 - val_loss: 0.1959 - val_acc: 0.9453\n",
      "Epoch 9/100\n",
      "101/101 [==============================] - 57s 561ms/step - loss: 0.0790 - acc: 0.9696 - val_loss: 0.1884 - val_acc: 0.9373\n",
      "Epoch 10/100\n",
      "101/101 [==============================] - 57s 566ms/step - loss: 0.0623 - acc: 0.9775 - val_loss: 0.1856 - val_acc: 0.9404\n",
      "Epoch 11/100\n",
      "101/101 [==============================] - 61s 599ms/step - loss: 0.0579 - acc: 0.9803 - val_loss: 0.2118 - val_acc: 0.9373\n",
      "Epoch 12/100\n",
      "101/101 [==============================] - 63s 626ms/step - loss: 0.0525 - acc: 0.9814 - val_loss: 0.2042 - val_acc: 0.9422\n",
      "Epoch 13/100\n",
      "101/101 [==============================] - 64s 636ms/step - loss: 0.0550 - acc: 0.9803 - val_loss: 0.2036 - val_acc: 0.9379\n",
      "Epoch 14/100\n",
      "101/101 [==============================] - 63s 630ms/step - loss: 0.0545 - acc: 0.9803 - val_loss: 0.1974 - val_acc: 0.9447\n",
      "Epoch 15/100\n",
      "101/101 [==============================] - 68s 678ms/step - loss: 0.0472 - acc: 0.9825 - val_loss: 0.2043 - val_acc: 0.9410\n",
      "Epoch 16/100\n",
      "101/101 [==============================] - 68s 670ms/step - loss: 0.0445 - acc: 0.9842 - val_loss: 0.2004 - val_acc: 0.9410\n",
      "Epoch 17/100\n",
      "101/101 [==============================] - 68s 641ms/step - loss: 0.0388 - acc: 0.9848 - val_loss: 0.1948 - val_acc: 0.9491\n",
      "Epoch 18/100\n",
      "101/101 [==============================] - 69s 686ms/step - loss: 0.0410 - acc: 0.9856 - val_loss: 0.2247 - val_acc: 0.9410\n",
      "Epoch 19/100\n",
      "101/101 [==============================] - 68s 679ms/step - loss: 0.0437 - acc: 0.9843 - val_loss: 0.1862 - val_acc: 0.9472\n",
      "Epoch 20/100\n",
      "101/101 [==============================] - 66s 651ms/step - loss: 0.0441 - acc: 0.9829 - val_loss: 0.2064 - val_acc: 0.9503\n"
     ]
    }
   ],
   "source": [
    "history = final_model.fit(Train_Data,validation_data=Test_Data,epochs=100,callbacks=[callback,checkpoint])"
   ]
  },
  {
   "cell_type": "markdown",
   "id": "bf3b2da2",
   "metadata": {},
   "source": [
    "## Save Model"
   ]
  },
  {
   "cell_type": "code",
   "execution_count": 20,
   "id": "4320b19b",
   "metadata": {},
   "outputs": [],
   "source": [
    "final_model.save('../../Models/COVID/Covid.h5')"
   ]
  },
  {
   "cell_type": "markdown",
   "id": "91e8c22e",
   "metadata": {},
   "source": [
    "## Graph"
   ]
  },
  {
   "cell_type": "code",
   "execution_count": 21,
   "id": "1c7cae8c",
   "metadata": {},
   "outputs": [
    {
     "data": {
      "image/png": "[encoded data removed]",
      "text/plain": [
       "<Figure size 640x480 with 1 Axes>"
      ]
     },
     "metadata": {},
     "output_type": "display_data"
    },
    {
     "data": {
      "image/png": "[encoded data removed]",
      "text/plain": [
       "<Figure size 640x480 with 1 Axes>"
      ]
     },
     "metadata": {},
     "output_type": "display_data"
    }
   ],
   "source": [
    "import matplotlib.pyplot as plt\n",
    "\n",
    "# summarize history for accuracy\n",
    "plt.plot(history.history['acc'])\n",
    "plt.plot(history.history['val_acc'])\n",
    "plt.title('model accuracy')\n",
    "plt.ylabel('accuracy')\n",
    "plt.xlabel('epoch')\n",
    "plt.legend(['Train', 'Validation'], loc='upper left')\n",
    "plt.show()\n",
    "# summarize history for loss\n",
    "plt.plot(history.history['loss'])\n",
    "plt.plot(history.history['val_loss'])\n",
    "plt.title('model loss')\n",
    "plt.ylabel('loss')\n",
    "plt.xlabel('epoch')\n",
    "plt.legend(['Train', 'Validation'], loc='upper left')\n",
    "plt.show()"
   ]
  }
 ],
 "metadata": {
  "kernelspec": {
   "display_name": "Python 3.9 (tf2.9)",
   "language": "python",
   "name": "tf2.9"
  },
  "language_info": {
   "codemirror_mode": {
    "name": "ipython",
    "version": 3
   },
   "file_extension": ".py",
   "mimetype": "text/x-python",
   "name": "python",
   "nbconvert_exporter": "python",
   "pygments_lexer": "ipython3",
   "version": "3.9.13"
  }
 },
 "nbformat": 4,
 "nbformat_minor": 5
}

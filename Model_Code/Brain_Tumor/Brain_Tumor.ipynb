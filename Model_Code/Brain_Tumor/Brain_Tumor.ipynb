{
 "cells": [
  {
   "cell_type": "markdown",
   "id": "5f111d7f",
   "metadata": {},
   "source": [
    "## Load Modules"
   ]
  },
  {
   "cell_type": "code",
   "execution_count": 20,
   "id": "82165b63",
   "metadata": {},
   "outputs": [],
   "source": [
    "import os\n",
    "import numpy as np\n",
    "import pandas as pd\n",
    "from sklearn.preprocessing import LabelEncoder\n",
    "import tensorflow as tf\n",
    "from keras_visualizer import visualizer\n",
    "from tensorflow.keras.preprocessing.image import load_img,img_to_array,save_img,ImageDataGenerator\n",
    "from tensorflow.keras.applications.vgg19 import VGG19\n",
    "from tensorflow.keras.callbacks import EarlyStopping,ModelCheckpoint\n",
    "from tensorflow.keras.models import Sequential,Model\n",
    "from tensorflow.keras import regularizers\n",
    "from tensorflow.keras.utils import to_categorical\n",
    "from tensorflow.keras.layers import Dense,Activation,Flatten,GlobalAveragePooling2D,Dropout,BatchNormalization,Conv2D,MaxPooling2D"
   ]
  },
  {
   "cell_type": "markdown",
   "id": "d097f55c",
   "metadata": {},
   "source": [
    "## Tensorflow Version & GPU checking"
   ]
  },
  {
   "cell_type": "code",
   "execution_count": 2,
   "id": "d4e1ca3d",
   "metadata": {},
   "outputs": [
    {
     "data": {
      "text/plain": [
       "'2.9.0'"
      ]
     },
     "execution_count": 2,
     "metadata": {},
     "output_type": "execute_result"
    }
   ],
   "source": [
    "tf.__version__"
   ]
  },
  {
   "cell_type": "code",
   "execution_count": 3,
   "id": "20c7644d",
   "metadata": {},
   "outputs": [
    {
     "name": "stdout",
     "output_type": "stream",
     "text": [
      "[name: \"/device:CPU:0\"\n",
      "device_type: \"CPU\"\n",
      "memory_limit: 268435456\n",
      "locality {\n",
      "}\n",
      "incarnation: 11658849398631149068\n",
      "xla_global_id: -1\n",
      ", name: \"/device:GPU:0\"\n",
      "device_type: \"GPU\"\n",
      "memory_limit: 1738696295\n",
      "locality {\n",
      "  bus_id: 1\n",
      "  links {\n",
      "  }\n",
      "}\n",
      "incarnation: 15927895718339571625\n",
      "physical_device_desc: \"device: 0, name: NVIDIA GeForce RTX 3050 Laptop GPU, pci bus id: 0000:01:00.0, compute capability: 8.6\"\n",
      "xla_global_id: 416903419\n",
      "]\n"
     ]
    }
   ],
   "source": [
    "from tensorflow.python.client import device_lib\n",
    "print(device_lib.list_local_devices())"
   ]
  },
  {
   "cell_type": "markdown",
   "id": "7f73e322",
   "metadata": {},
   "source": [
    "## Load Dataset"
   ]
  },
  {
   "cell_type": "code",
   "execution_count": 4,
   "id": "7d21f0cd",
   "metadata": {},
   "outputs": [],
   "source": [
    "Train_Dir = '../../Datasets/Brain_tumor/Training/'\n",
    "Testing_Dir = '../../Datasets/Brain_tumor/Testing/'"
   ]
  },
  {
   "cell_type": "code",
   "execution_count": 5,
   "id": "febffcb1",
   "metadata": {},
   "outputs": [],
   "source": [
    "gen = ImageDataGenerator(rescale=1./255.0)"
   ]
  },
  {
   "cell_type": "code",
   "execution_count": 6,
   "id": "96c7d94b",
   "metadata": {},
   "outputs": [
    {
     "name": "stdout",
     "output_type": "stream",
     "text": [
      "Found 5712 images belonging to 4 classes.\n",
      "Found 1311 images belonging to 4 classes.\n"
     ]
    }
   ],
   "source": [
    "Train_Data = gen.flow_from_directory(Train_Dir,target_size=(128,128),shuffle=True,batch_size=16)\n",
    "Test_Data = gen.flow_from_directory(Testing_Dir,target_size=(128,128),shuffle=True,batch_size=16)"
   ]
  },
  {
   "cell_type": "code",
   "execution_count": 7,
   "id": "12d56948",
   "metadata": {},
   "outputs": [
    {
     "data": {
      "text/plain": [
       "{'glioma': 0, 'meningioma': 1, 'notumor': 2, 'pituitary': 3}"
      ]
     },
     "execution_count": 7,
     "metadata": {},
     "output_type": "execute_result"
    }
   ],
   "source": [
    "Train_Data.class_indices"
   ]
  },
  {
   "cell_type": "markdown",
   "id": "aa1da6e5",
   "metadata": {},
   "source": [
    "## Model"
   ]
  },
  {
   "cell_type": "code",
   "execution_count": 8,
   "id": "7c37a53f",
   "metadata": {},
   "outputs": [],
   "source": [
    "Base_Model = VGG19(include_top=False,input_shape=(128,128,3))"
   ]
  },
  {
   "cell_type": "code",
   "execution_count": 9,
   "id": "11a114e1",
   "metadata": {},
   "outputs": [],
   "source": [
    "Base_Model.trainable = False"
   ]
  },
  {
   "cell_type": "code",
   "execution_count": 10,
   "id": "9a3017aa",
   "metadata": {},
   "outputs": [],
   "source": [
    "def classification_layer():\n",
    "    Classification_Layer = [\n",
    "    Flatten(),\n",
    "    BatchNormalization(),\n",
    "    Dense(units=128,activation='relu'),\n",
    "    Dropout(0.3),\n",
    "    BatchNormalization(),\n",
    "    Dense(units=64,activation='relu'),\n",
    "    Dropout(0.3),\n",
    "    BatchNormalization(),\n",
    "    Dense(units=4,activation='softmax')\n",
    "    ]\n",
    "    return Classification_Layer"
   ]
  },
  {
   "cell_type": "code",
   "execution_count": 11,
   "id": "ba5f865b",
   "metadata": {},
   "outputs": [],
   "source": [
    "model = [Base_Model]\n",
    "for cls_layer in classification_layer():\n",
    "    model.append(cls_layer)"
   ]
  },
  {
   "cell_type": "code",
   "execution_count": 12,
   "id": "33e06903",
   "metadata": {},
   "outputs": [],
   "source": [
    "final_model = Sequential(model)"
   ]
  },
  {
   "cell_type": "code",
   "execution_count": 13,
   "id": "17e3bdc1",
   "metadata": {},
   "outputs": [
    {
     "name": "stdout",
     "output_type": "stream",
     "text": [
      "Model: \"sequential\"\n",
      "_________________________________________________________________\n",
      " Layer (type)                Output Shape              Param #   \n",
      "=================================================================\n",
      " vgg19 (Functional)          (None, 4, 4, 512)         20024384  \n",
      "                                                                 \n",
      " flatten (Flatten)           (None, 8192)              0         \n",
      "                                                                 \n",
      " batch_normalization (BatchN  (None, 8192)             32768     \n",
      " ormalization)                                                   \n",
      "                                                                 \n",
      " dense (Dense)               (None, 128)               1048704   \n",
      "                                                                 \n",
      " dropout (Dropout)           (None, 128)               0         \n",
      "                                                                 \n",
      " batch_normalization_1 (Batc  (None, 128)              512       \n",
      " hNormalization)                                                 \n",
      "                                                                 \n",
      " dense_1 (Dense)             (None, 64)                8256      \n",
      "                                                                 \n",
      " dropout_1 (Dropout)         (None, 64)                0         \n",
      "                                                                 \n",
      " batch_normalization_2 (Batc  (None, 64)               256       \n",
      " hNormalization)                                                 \n",
      "                                                                 \n",
      " dense_2 (Dense)             (None, 4)                 260       \n",
      "                                                                 \n",
      "=================================================================\n",
      "Total params: 21,115,140\n",
      "Trainable params: 1,073,988\n",
      "Non-trainable params: 20,041,152\n",
      "_________________________________________________________________\n"
     ]
    }
   ],
   "source": [
    "final_model.summary()"
   ]
  },
  {
   "cell_type": "markdown",
   "id": "7e1a23b4",
   "metadata": {},
   "source": [
    "## Compile"
   ]
  },
  {
   "cell_type": "code",
   "execution_count": 14,
   "id": "37039085",
   "metadata": {},
   "outputs": [],
   "source": [
    "callback = EarlyStopping(monitor='loss',patience=3)"
   ]
  },
  {
   "cell_type": "code",
   "execution_count": 15,
   "id": "4040b9d7",
   "metadata": {},
   "outputs": [],
   "source": [
    "checkpoint = ModelCheckpoint(filepath='../../Models/Brain_Tumor/Brain_Tumor_VGG19.hdf5',monitor='val_loss',save_best_only=True,verbose=0,mode='auto')"
   ]
  },
  {
   "cell_type": "code",
   "execution_count": 16,
   "id": "bc9c5a10",
   "metadata": {},
   "outputs": [],
   "source": [
    "final_model.compile(optimizer='adam',loss='categorical_crossentropy',metrics=['acc'])"
   ]
  },
  {
   "cell_type": "markdown",
   "id": "1d99a180",
   "metadata": {},
   "source": [
    "## Training"
   ]
  },
  {
   "cell_type": "code",
   "execution_count": 17,
   "id": "95565f45",
   "metadata": {},
   "outputs": [
    {
     "name": "stdout",
     "output_type": "stream",
     "text": [
      "Epoch 1/100\n",
      "357/357 [==============================] - 69s 182ms/step - loss: 0.6142 - acc: 0.7612 - val_loss: 0.3762 - val_acc: 0.8581\n",
      "Epoch 2/100\n",
      "357/357 [==============================] - 22s 60ms/step - loss: 0.3887 - acc: 0.8559 - val_loss: 0.2869 - val_acc: 0.8909\n",
      "Epoch 3/100\n",
      "357/357 [==============================] - 23s 63ms/step - loss: 0.3323 - acc: 0.8773 - val_loss: 0.2106 - val_acc: 0.9207\n",
      "Epoch 4/100\n",
      "357/357 [==============================] - 22s 62ms/step - loss: 0.2589 - acc: 0.9051 - val_loss: 0.1895 - val_acc: 0.9252\n",
      "Epoch 5/100\n",
      "357/357 [==============================] - 25s 70ms/step - loss: 0.2497 - acc: 0.9060 - val_loss: 0.1719 - val_acc: 0.9359\n",
      "Epoch 6/100\n",
      "357/357 [==============================] - 28s 77ms/step - loss: 0.2188 - acc: 0.9202 - val_loss: 0.1489 - val_acc: 0.9474\n",
      "Epoch 7/100\n",
      "357/357 [==============================] - 28s 77ms/step - loss: 0.1839 - acc: 0.9315 - val_loss: 0.1753 - val_acc: 0.9390\n",
      "Epoch 8/100\n",
      "357/357 [==============================] - 33s 92ms/step - loss: 0.1876 - acc: 0.9331 - val_loss: 0.1379 - val_acc: 0.9542\n",
      "Epoch 9/100\n",
      "357/357 [==============================] - 34s 96ms/step - loss: 0.1623 - acc: 0.9401 - val_loss: 0.1490 - val_acc: 0.9436\n",
      "Epoch 10/100\n",
      "357/357 [==============================] - 34s 93ms/step - loss: 0.1712 - acc: 0.9401 - val_loss: 0.1110 - val_acc: 0.9558\n",
      "Epoch 11/100\n",
      "357/357 [==============================] - 33s 92ms/step - loss: 0.1472 - acc: 0.9501 - val_loss: 0.1433 - val_acc: 0.9489\n",
      "Epoch 12/100\n",
      "357/357 [==============================] - 29s 82ms/step - loss: 0.1451 - acc: 0.9468 - val_loss: 0.1274 - val_acc: 0.9558\n",
      "Epoch 13/100\n",
      "357/357 [==============================] - 32s 90ms/step - loss: 0.1284 - acc: 0.9561 - val_loss: 0.1157 - val_acc: 0.9634\n",
      "Epoch 14/100\n",
      "357/357 [==============================] - 38s 105ms/step - loss: 0.1343 - acc: 0.9506 - val_loss: 0.1081 - val_acc: 0.9611\n",
      "Epoch 15/100\n",
      "357/357 [==============================] - 31s 85ms/step - loss: 0.1268 - acc: 0.9578 - val_loss: 0.1386 - val_acc: 0.9519\n",
      "Epoch 16/100\n",
      "357/357 [==============================] - 39s 110ms/step - loss: 0.1166 - acc: 0.9569 - val_loss: 0.1304 - val_acc: 0.9611\n",
      "Epoch 17/100\n",
      "357/357 [==============================] - 34s 95ms/step - loss: 0.1044 - acc: 0.9611 - val_loss: 0.1075 - val_acc: 0.9596\n",
      "Epoch 18/100\n",
      "357/357 [==============================] - 32s 91ms/step - loss: 0.0971 - acc: 0.9671 - val_loss: 0.0979 - val_acc: 0.9657\n",
      "Epoch 19/100\n",
      "357/357 [==============================] - 33s 93ms/step - loss: 0.1128 - acc: 0.9629 - val_loss: 0.1044 - val_acc: 0.9634\n",
      "Epoch 20/100\n",
      "357/357 [==============================] - 32s 90ms/step - loss: 0.0965 - acc: 0.9655 - val_loss: 0.1087 - val_acc: 0.9649\n",
      "Epoch 21/100\n",
      "357/357 [==============================] - 43s 119ms/step - loss: 0.1006 - acc: 0.9641 - val_loss: 0.1025 - val_acc: 0.9672\n",
      "Epoch 22/100\n",
      "357/357 [==============================] - 33s 93ms/step - loss: 0.0882 - acc: 0.9716 - val_loss: 0.1026 - val_acc: 0.9634\n",
      "Epoch 23/100\n",
      "357/357 [==============================] - 31s 86ms/step - loss: 0.0773 - acc: 0.9727 - val_loss: 0.0882 - val_acc: 0.9703\n",
      "Epoch 24/100\n",
      "357/357 [==============================] - 33s 92ms/step - loss: 0.0887 - acc: 0.9699 - val_loss: 0.0975 - val_acc: 0.9695\n",
      "Epoch 25/100\n",
      "357/357 [==============================] - 42s 118ms/step - loss: 0.0819 - acc: 0.9709 - val_loss: 0.1114 - val_acc: 0.9641\n",
      "Epoch 26/100\n",
      "357/357 [==============================] - 35s 94ms/step - loss: 0.0726 - acc: 0.9727 - val_loss: 0.1062 - val_acc: 0.9596\n",
      "Epoch 27/100\n",
      "357/357 [==============================] - 33s 92ms/step - loss: 0.0790 - acc: 0.9716 - val_loss: 0.1098 - val_acc: 0.9657\n",
      "Epoch 28/100\n",
      "357/357 [==============================] - 32s 91ms/step - loss: 0.0700 - acc: 0.9757 - val_loss: 0.0956 - val_acc: 0.9695\n",
      "Epoch 29/100\n",
      "357/357 [==============================] - 39s 108ms/step - loss: 0.0770 - acc: 0.9751 - val_loss: 0.1023 - val_acc: 0.9664\n",
      "Epoch 30/100\n",
      "357/357 [==============================] - 32s 89ms/step - loss: 0.0672 - acc: 0.9758 - val_loss: 0.0925 - val_acc: 0.9718\n",
      "Epoch 31/100\n",
      "357/357 [==============================] - 35s 97ms/step - loss: 0.0605 - acc: 0.9774 - val_loss: 0.1179 - val_acc: 0.9634\n",
      "Epoch 32/100\n",
      "357/357 [==============================] - 34s 96ms/step - loss: 0.0642 - acc: 0.9762 - val_loss: 0.0993 - val_acc: 0.9695\n",
      "Epoch 33/100\n",
      "357/357 [==============================] - 42s 118ms/step - loss: 0.0648 - acc: 0.9774 - val_loss: 0.0932 - val_acc: 0.9687\n",
      "Epoch 34/100\n",
      "357/357 [==============================] - 37s 104ms/step - loss: 0.0673 - acc: 0.9765 - val_loss: 0.0942 - val_acc: 0.9741\n"
     ]
    }
   ],
   "source": [
    "history = final_model.fit(Train_Data,validation_data=Test_Data,epochs=100,callbacks=[callback,checkpoint])"
   ]
  },
  {
   "cell_type": "markdown",
   "id": "6ec3d3a1",
   "metadata": {},
   "source": [
    "## Save Model"
   ]
  },
  {
   "cell_type": "code",
   "execution_count": 18,
   "id": "c1284295",
   "metadata": {},
   "outputs": [],
   "source": [
    "final_model.save('../../Models/Brain_Tumor/Brain_Tumor_VGG19.h5')"
   ]
  },
  {
   "cell_type": "markdown",
   "id": "58ec75ef",
   "metadata": {},
   "source": [
    "## Graph"
   ]
  },
  {
   "cell_type": "code",
   "execution_count": 26,
   "id": "eb8509b2",
   "metadata": {},
   "outputs": [
    {
     "data": {
      "image/png": "[encoded data removed]",
      "text/plain": [
       "<Figure size 640x480 with 1 Axes>"
      ]
     },
     "metadata": {},
     "output_type": "display_data"
    },
    {
     "data": {
      "image/png": "[encoded data removed]",
      "text/plain": [
       "<Figure size 640x480 with 1 Axes>"
      ]
     },
     "metadata": {},
     "output_type": "display_data"
    }
   ],
   "source": [
    "import matplotlib.pyplot as plt\n",
    "\n",
    "# summarize history for accuracy\n",
    "plt.plot(history.history['acc'])\n",
    "plt.plot(history.history['val_acc'])\n",
    "plt.title('model accuracy')\n",
    "plt.ylabel('accuracy')\n",
    "plt.xlabel('epoch')\n",
    "plt.legend(['Train', 'Validation'], loc='upper left')\n",
    "plt.show()\n",
    "# summarize history for loss\n",
    "plt.plot(history.history['loss'])\n",
    "plt.plot(history.history['val_loss'])\n",
    "plt.title('model loss')\n",
    "plt.ylabel('loss')\n",
    "plt.xlabel('epoch')\n",
    "plt.legend(['Train', 'Validation'], loc='upper left')\n",
    "plt.show()"
   ]
  }
 ],
 "metadata": {
  "kernelspec": {
   "display_name": "Python 3.9 (tf2.9)",
   "language": "python",
   "name": "tf2.9"
  },
  "language_info": {
   "codemirror_mode": {
    "name": "ipython",
    "version": 3
   },
   "file_extension": ".py",
   "mimetype": "text/x-python",
   "name": "python",
   "nbconvert_exporter": "python",
   "pygments_lexer": "ipython3",
   "version": "3.9.13"
  }
 },
 "nbformat": 4,
 "nbformat_minor": 5
}

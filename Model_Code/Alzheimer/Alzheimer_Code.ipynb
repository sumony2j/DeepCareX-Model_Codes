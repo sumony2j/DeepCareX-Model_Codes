{
 "cells": [
  {
   "cell_type": "markdown",
   "id": "7698739b",
   "metadata": {},
   "source": [
    "## Load Modules"
   ]
  },
  {
   "cell_type": "code",
   "execution_count": 1,
   "id": "aeccce50",
   "metadata": {},
   "outputs": [],
   "source": [
    "import os\n",
    "import numpy as np\n",
    "import pandas as pd\n",
    "from sklearn.preprocessing import LabelEncoder\n",
    "import tensorflow as tf\n",
    "from tensorflow.keras.preprocessing.image import load_img,img_to_array,save_img,ImageDataGenerator\n",
    "from tensorflow.keras.applications.vgg19 import VGG19\n",
    "from tensorflow.keras.applications.vgg16 import VGG16\n",
    "from tensorflow.keras.callbacks import EarlyStopping,ModelCheckpoint\n",
    "from tensorflow.keras.models import Sequential,Model\n",
    "from tensorflow.keras.utils import plot_model\n",
    "from tensorflow.keras import regularizers\n",
    "from tensorflow.keras.utils import to_categorical\n",
    "from tensorflow.keras.layers import Dense,Activation,Flatten,GlobalAveragePooling2D,Dropout,BatchNormalization,Conv2D,MaxPooling2D"
   ]
  },
  {
   "cell_type": "markdown",
   "id": "634f4e6b",
   "metadata": {},
   "source": [
    "## Tensorflow Version & GPU checking"
   ]
  },
  {
   "cell_type": "code",
   "execution_count": 2,
   "id": "80931040",
   "metadata": {},
   "outputs": [
    {
     "data": {
      "text/plain": [
       "'2.9.0'"
      ]
     },
     "execution_count": 2,
     "metadata": {},
     "output_type": "execute_result"
    }
   ],
   "source": [
    "tf.__version__"
   ]
  },
  {
   "cell_type": "code",
   "execution_count": 3,
   "id": "62df72db",
   "metadata": {},
   "outputs": [
    {
     "name": "stdout",
     "output_type": "stream",
     "text": [
      "[name: \"/device:CPU:0\"\n",
      "device_type: \"CPU\"\n",
      "memory_limit: 268435456\n",
      "locality {\n",
      "}\n",
      "incarnation: 8302490687659183220\n",
      "xla_global_id: -1\n",
      ", name: \"/device:GPU:0\"\n",
      "device_type: \"GPU\"\n",
      "memory_limit: 1738696295\n",
      "locality {\n",
      "  bus_id: 1\n",
      "  links {\n",
      "  }\n",
      "}\n",
      "incarnation: 17489114588602028199\n",
      "physical_device_desc: \"device: 0, name: NVIDIA GeForce RTX 3050 Laptop GPU, pci bus id: 0000:01:00.0, compute capability: 8.6\"\n",
      "xla_global_id: 416903419\n",
      "]\n"
     ]
    }
   ],
   "source": [
    "from tensorflow.python.client import device_lib\n",
    "print(device_lib.list_local_devices())"
   ]
  },
  {
   "cell_type": "markdown",
   "id": "844c0562",
   "metadata": {},
   "source": [
    "## Load Dataset"
   ]
  },
  {
   "cell_type": "code",
   "execution_count": 4,
   "id": "502d9374",
   "metadata": {},
   "outputs": [],
   "source": [
    "Train_Dir = '../../Datasets/Alzheimer/train/'\n",
    "Val_Dir = '../../Datasets/Alzheimer/val/'"
   ]
  },
  {
   "cell_type": "code",
   "execution_count": 5,
   "id": "ac654145",
   "metadata": {},
   "outputs": [],
   "source": [
    "gen = ImageDataGenerator(rescale=1./255.0)"
   ]
  },
  {
   "cell_type": "code",
   "execution_count": 6,
   "id": "6197dc01",
   "metadata": {},
   "outputs": [
    {
     "name": "stdout",
     "output_type": "stream",
     "text": [
      "Found 33984 images belonging to 4 classes.\n",
      "Found 6400 images belonging to 4 classes.\n"
     ]
    }
   ],
   "source": [
    "Train_Data = gen.flow_from_directory(Train_Dir,target_size=(128,128),shuffle=True)\n",
    "Test_Data = gen.flow_from_directory(Val_Dir,target_size=(128,128),shuffle=True)"
   ]
  },
  {
   "cell_type": "code",
   "execution_count": 7,
   "id": "a9a54d6a",
   "metadata": {},
   "outputs": [
    {
     "data": {
      "text/plain": [
       "{'MildDemented': 0,\n",
       " 'ModerateDemented': 1,\n",
       " 'NonDemented': 2,\n",
       " 'VeryMildDemented': 3}"
      ]
     },
     "execution_count": 7,
     "metadata": {},
     "output_type": "execute_result"
    }
   ],
   "source": [
    "Train_Data.class_indices"
   ]
  },
  {
   "cell_type": "markdown",
   "id": "0c94c8c3",
   "metadata": {},
   "source": [
    "## Model"
   ]
  },
  {
   "cell_type": "code",
   "execution_count": 8,
   "id": "d6a32bac",
   "metadata": {},
   "outputs": [],
   "source": [
    "def features_layer():\n",
    "    feature_extraction = [\n",
    "        Conv2D(128,(3,3),input_shape=(128,128,3),activation='relu'),\n",
    "        MaxPooling2D((2,2)),\n",
    "        Conv2D(filters=64,kernel_size=(3,3),activation='relu'),\n",
    "        MaxPooling2D((2,2)),\n",
    "        Conv2D(filters=64,kernel_size=(3,3),activation='relu'),\n",
    "        MaxPooling2D((2,2)),\n",
    "        Conv2D(filters=32,kernel_size=(3,3),activation='relu'),\n",
    "        MaxPooling2D((2,2))\n",
    "    ]\n",
    "    return feature_extraction"
   ]
  },
  {
   "cell_type": "code",
   "execution_count": 9,
   "id": "7261a82a",
   "metadata": {},
   "outputs": [],
   "source": [
    "def classification_layer():\n",
    "    Classification_Layer = [\n",
    "    Flatten(),\n",
    "    Dense(units=512,activation='relu'),\n",
    "    BatchNormalization(),\n",
    "    Dense(units=256,activation='relu'),\n",
    "    Dropout(0.3),\n",
    "    BatchNormalization(),\n",
    "    Dense(units=128,activation='relu'),\n",
    "    Dropout(0.3),\n",
    "    BatchNormalization(),\n",
    "    Dense(units=4,activation='softmax')\n",
    "    ]\n",
    "    return Classification_Layer"
   ]
  },
  {
   "cell_type": "code",
   "execution_count": 10,
   "id": "f1e9c5f4",
   "metadata": {},
   "outputs": [],
   "source": [
    "model = []\n",
    "for layer in features_layer():\n",
    "    model.append(layer)"
   ]
  },
  {
   "cell_type": "code",
   "execution_count": 11,
   "id": "538bbeb0",
   "metadata": {},
   "outputs": [],
   "source": [
    "for cls_layer in classification_layer():\n",
    "    model.append(cls_layer)"
   ]
  },
  {
   "cell_type": "code",
   "execution_count": 12,
   "id": "8e444dc0",
   "metadata": {},
   "outputs": [],
   "source": [
    "final_model = Sequential(model)"
   ]
  },
  {
   "cell_type": "code",
   "execution_count": 13,
   "id": "21994ede",
   "metadata": {},
   "outputs": [
    {
     "name": "stdout",
     "output_type": "stream",
     "text": [
      "Model: \"sequential\"\n",
      "_________________________________________________________________\n",
      " Layer (type)                Output Shape              Param #   \n",
      "=================================================================\n",
      " conv2d (Conv2D)             (None, 126, 126, 128)     3584      \n",
      "                                                                 \n",
      " max_pooling2d (MaxPooling2D  (None, 63, 63, 128)      0         \n",
      " )                                                               \n",
      "                                                                 \n",
      " conv2d_1 (Conv2D)           (None, 61, 61, 64)        73792     \n",
      "                                                                 \n",
      " max_pooling2d_1 (MaxPooling  (None, 30, 30, 64)       0         \n",
      " 2D)                                                             \n",
      "                                                                 \n",
      " conv2d_2 (Conv2D)           (None, 28, 28, 64)        36928     \n",
      "                                                                 \n",
      " max_pooling2d_2 (MaxPooling  (None, 14, 14, 64)       0         \n",
      " 2D)                                                             \n",
      "                                                                 \n",
      " conv2d_3 (Conv2D)           (None, 12, 12, 32)        18464     \n",
      "                                                                 \n",
      " max_pooling2d_3 (MaxPooling  (None, 6, 6, 32)         0         \n",
      " 2D)                                                             \n",
      "                                                                 \n",
      " flatten (Flatten)           (None, 1152)              0         \n",
      "                                                                 \n",
      " dense (Dense)               (None, 512)               590336    \n",
      "                                                                 \n",
      " batch_normalization (BatchN  (None, 512)              2048      \n",
      " ormalization)                                                   \n",
      "                                                                 \n",
      " dense_1 (Dense)             (None, 256)               131328    \n",
      "                                                                 \n",
      " dropout (Dropout)           (None, 256)               0         \n",
      "                                                                 \n",
      " batch_normalization_1 (Batc  (None, 256)              1024      \n",
      " hNormalization)                                                 \n",
      "                                                                 \n",
      " dense_2 (Dense)             (None, 128)               32896     \n",
      "                                                                 \n",
      " dropout_1 (Dropout)         (None, 128)               0         \n",
      "                                                                 \n",
      " batch_normalization_2 (Batc  (None, 128)              512       \n",
      " hNormalization)                                                 \n",
      "                                                                 \n",
      " dense_3 (Dense)             (None, 4)                 516       \n",
      "                                                                 \n",
      "=================================================================\n",
      "Total params: 891,428\n",
      "Trainable params: 889,636\n",
      "Non-trainable params: 1,792\n",
      "_________________________________________________________________\n"
     ]
    }
   ],
   "source": [
    "final_model.summary()"
   ]
  },
  {
   "cell_type": "code",
   "execution_count": 14,
   "id": "b4c499d4",
   "metadata": {},
   "outputs": [
    {
     "name": "stdout",
     "output_type": "stream",
     "text": [
      "You must install pydot (`pip install pydot`) and install graphviz (see instructions at https://graphviz.gitlab.io/download/) for plot_model/model_to_dot to work.\n"
     ]
    }
   ],
   "source": [
    "plot_model(final_model,to_file='../../Model_Code/Alzheimer/Alzheimer.png',show_shapes=True, show_layer_names=True)"
   ]
  },
  {
   "cell_type": "markdown",
   "id": "0c5d36a3",
   "metadata": {},
   "source": [
    "## Compile"
   ]
  },
  {
   "cell_type": "code",
   "execution_count": 15,
   "id": "3a8c49b1",
   "metadata": {},
   "outputs": [],
   "source": [
    "callback = EarlyStopping(monitor='loss',patience=3)"
   ]
  },
  {
   "cell_type": "code",
   "execution_count": 16,
   "id": "4e266732",
   "metadata": {},
   "outputs": [],
   "source": [
    "checkpoint = ModelCheckpoint(filepath='../../Models/Alzheimer/Alzheimer_CNN.hdf5',monitor='val_loss',save_best_only=True,verbose=0,mode='auto')"
   ]
  },
  {
   "cell_type": "code",
   "execution_count": 17,
   "id": "aa650607",
   "metadata": {},
   "outputs": [],
   "source": [
    "final_model.compile(optimizer='adam',loss='categorical_crossentropy',metrics=['acc'])"
   ]
  },
  {
   "cell_type": "markdown",
   "id": "8d17a2a6",
   "metadata": {},
   "source": [
    "## Training"
   ]
  },
  {
   "cell_type": "code",
   "execution_count": 18,
   "id": "0e3c9c11",
   "metadata": {},
   "outputs": [
    {
     "name": "stdout",
     "output_type": "stream",
     "text": [
      "Epoch 1/100\n",
      "1062/1062 [==============================] - 65s 56ms/step - loss: 1.0238 - acc: 0.5454 - val_loss: 1.0664 - val_acc: 0.4723\n",
      "Epoch 2/100\n",
      "1062/1062 [==============================] - 81s 76ms/step - loss: 0.6749 - acc: 0.7085 - val_loss: 0.8950 - val_acc: 0.6677\n",
      "Epoch 3/100\n",
      "1062/1062 [==============================] - 97s 91ms/step - loss: 0.5334 - acc: 0.7755 - val_loss: 0.6748 - val_acc: 0.7408\n",
      "Epoch 4/100\n",
      "1062/1062 [==============================] - 106s 100ms/step - loss: 0.4380 - acc: 0.8199 - val_loss: 0.4360 - val_acc: 0.8055\n",
      "Epoch 5/100\n",
      "1062/1062 [==============================] - 98s 92ms/step - loss: 0.3757 - acc: 0.8512 - val_loss: 0.8741 - val_acc: 0.6852\n",
      "Epoch 6/100\n",
      "1062/1062 [==============================] - 98s 92ms/step - loss: 0.3286 - acc: 0.8698 - val_loss: 0.2234 - val_acc: 0.9102\n",
      "Epoch 7/100\n",
      "1062/1062 [==============================] - 104s 97ms/step - loss: 0.2906 - acc: 0.8852 - val_loss: 0.2870 - val_acc: 0.8994\n",
      "Epoch 8/100\n",
      "1062/1062 [==============================] - 69s 65ms/step - loss: 0.2532 - acc: 0.9006 - val_loss: 0.3224 - val_acc: 0.8753\n",
      "Epoch 9/100\n",
      "1062/1062 [==============================] - 90s 84ms/step - loss: 0.2360 - acc: 0.9082 - val_loss: 0.2395 - val_acc: 0.8966\n",
      "Epoch 10/100\n",
      "1062/1062 [==============================] - 113s 106ms/step - loss: 0.2241 - acc: 0.9138 - val_loss: 0.8224 - val_acc: 0.7206\n",
      "Epoch 11/100\n",
      "1062/1062 [==============================] - 101s 96ms/step - loss: 0.2025 - acc: 0.9223 - val_loss: 0.0980 - val_acc: 0.9658\n",
      "Epoch 12/100\n",
      "1062/1062 [==============================] - 112s 106ms/step - loss: 0.1791 - acc: 0.9324 - val_loss: 0.2869 - val_acc: 0.8883\n",
      "Epoch 13/100\n",
      "1062/1062 [==============================] - 108s 102ms/step - loss: 0.1757 - acc: 0.9342 - val_loss: 0.4064 - val_acc: 0.8583\n",
      "Epoch 14/100\n",
      "1062/1062 [==============================] - 104s 98ms/step - loss: 0.1549 - acc: 0.9421 - val_loss: 0.1178 - val_acc: 0.9564\n",
      "Epoch 15/100\n",
      "1062/1062 [==============================] - 112s 105ms/step - loss: 0.1439 - acc: 0.9474 - val_loss: 0.0565 - val_acc: 0.9816\n",
      "Epoch 16/100\n",
      "1062/1062 [==============================] - 100s 94ms/step - loss: 0.1387 - acc: 0.9487 - val_loss: 0.1013 - val_acc: 0.9697\n",
      "Epoch 17/100\n",
      "1062/1062 [==============================] - 102s 96ms/step - loss: 0.1293 - acc: 0.9528 - val_loss: 0.1376 - val_acc: 0.9447\n",
      "Epoch 18/100\n",
      "1062/1062 [==============================] - 103s 97ms/step - loss: 0.1301 - acc: 0.9522 - val_loss: 0.0702 - val_acc: 0.9734\n",
      "Epoch 19/100\n",
      "1062/1062 [==============================] - 96s 90ms/step - loss: 0.1197 - acc: 0.9565 - val_loss: 0.0754 - val_acc: 0.9723\n",
      "Epoch 20/100\n",
      "1062/1062 [==============================] - 105s 99ms/step - loss: 0.1049 - acc: 0.9621 - val_loss: 0.1560 - val_acc: 0.9450\n",
      "Epoch 21/100\n",
      "1062/1062 [==============================] - 89s 83ms/step - loss: 0.0991 - acc: 0.9647 - val_loss: 0.0622 - val_acc: 0.9758\n",
      "Epoch 22/100\n",
      "1062/1062 [==============================] - 90s 84ms/step - loss: 0.1048 - acc: 0.9620 - val_loss: 0.1766 - val_acc: 0.9308\n",
      "Epoch 23/100\n",
      "1062/1062 [==============================] - 99s 94ms/step - loss: 0.0951 - acc: 0.9662 - val_loss: 0.1668 - val_acc: 0.9250\n",
      "Epoch 24/100\n",
      "1062/1062 [==============================] - 101s 95ms/step - loss: 0.1020 - acc: 0.9628 - val_loss: 0.1188 - val_acc: 0.9528\n",
      "Epoch 25/100\n",
      "1062/1062 [==============================] - 100s 94ms/step - loss: 0.0879 - acc: 0.9680 - val_loss: 0.1420 - val_acc: 0.9434\n",
      "Epoch 26/100\n",
      "1062/1062 [==============================] - 97s 92ms/step - loss: 0.0873 - acc: 0.9688 - val_loss: 0.0575 - val_acc: 0.9808\n",
      "Epoch 27/100\n",
      "1062/1062 [==============================] - 91s 86ms/step - loss: 0.0764 - acc: 0.9728 - val_loss: 0.0993 - val_acc: 0.9598\n",
      "Epoch 28/100\n",
      "1062/1062 [==============================] - 95s 89ms/step - loss: 0.0818 - acc: 0.9709 - val_loss: 0.1434 - val_acc: 0.9522\n",
      "Epoch 29/100\n",
      "1062/1062 [==============================] - 102s 96ms/step - loss: 0.0779 - acc: 0.9716 - val_loss: 0.0944 - val_acc: 0.9663\n",
      "Epoch 30/100\n",
      "1062/1062 [==============================] - 97s 91ms/step - loss: 0.0788 - acc: 0.9723 - val_loss: 0.0664 - val_acc: 0.9753\n"
     ]
    }
   ],
   "source": [
    "history = final_model.fit(Train_Data,validation_data=Test_Data,epochs=100,callbacks=[callback,checkpoint])"
   ]
  },
  {
   "cell_type": "markdown",
   "id": "a659cafe",
   "metadata": {},
   "source": [
    "## Save Model"
   ]
  },
  {
   "cell_type": "code",
   "execution_count": 19,
   "id": "36778daa",
   "metadata": {},
   "outputs": [],
   "source": [
    "final_model.save('../../Models/Alzheimer/Alzheimer_CNN.h5')"
   ]
  },
  {
   "cell_type": "markdown",
   "id": "4f994cde",
   "metadata": {},
   "source": [
    "## Graph"
   ]
  },
  {
   "cell_type": "code",
   "execution_count": 21,
   "id": "2b552b20",
   "metadata": {},
   "outputs": [
    {
     "data": {
      "image/png": "[encoded data removed]",
      "text/plain": [
       "<Figure size 640x480 with 1 Axes>"
      ]
     },
     "metadata": {},
     "output_type": "display_data"
    },
    {
     "data": {
      "image/png": "[encoded data removed]",
      "text/plain": [
       "<Figure size 640x480 with 1 Axes>"
      ]
     },
     "metadata": {},
     "output_type": "display_data"
    }
   ],
   "source": [
    "import matplotlib.pyplot as plt\n",
    "\n",
    "# summarize history for accuracy\n",
    "plt.plot(history.history['acc'])\n",
    "plt.plot(history.history['val_acc'])\n",
    "plt.title('model accuracy')\n",
    "plt.ylabel('accuracy')\n",
    "plt.xlabel('epoch')\n",
    "plt.legend(['Train', 'Validation'], loc='upper left')\n",
    "plt.show()\n",
    "# summarize history for loss\n",
    "plt.plot(history.history['loss'])\n",
    "plt.plot(history.history['val_loss'])\n",
    "plt.title('model loss')\n",
    "plt.ylabel('loss')\n",
    "plt.xlabel('epoch')\n",
    "plt.legend(['Train', 'Validation'], loc='upper left')\n",
    "plt.show()"
   ]
  }
 ],
 "metadata": {
  "kernelspec": {
   "display_name": "Python 3.9 (tf2.9)",
   "language": "python",
   "name": "tf2.9"
  },
  "language_info": {
   "codemirror_mode": {
    "name": "ipython",
    "version": 3
   },
   "file_extension": ".py",
   "mimetype": "text/x-python",
   "name": "python",
   "nbconvert_exporter": "python",
   "pygments_lexer": "ipython3",
   "version": "3.9.13"
  }
 },
 "nbformat": 4,
 "nbformat_minor": 5
}
